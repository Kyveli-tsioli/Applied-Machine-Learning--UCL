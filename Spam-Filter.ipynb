{
 "cells": [
  {
   "cell_type": "markdown",
   "metadata": {},
   "source": [
    "Before you turn this problem in, make sure everything runs as expected. First, **restart the kernel** (in the menubar, select Kernel$\\rightarrow$Restart) and then **run all cells** (in the menubar, select Cell$\\rightarrow$Run All).\n",
    "\n",
    "Make sure you fill in any place that says `YOUR CODE HERE` or \"YOUR ANSWER HERE\"."
   ]
  },
  {
   "cell_type": "markdown",
   "metadata": {},
   "source": [
    "---"
   ]
  },
  {
   "cell_type": "markdown",
   "metadata": {
    "deletable": false,
    "editable": false,
    "nbgrader": {
     "cell_type": "markdown",
     "checksum": "7d33f9a0294182e502521643e409e54e",
     "grade": false,
     "grade_id": "jupyter",
     "locked": true,
     "schema_version": 3,
     "solution": false
    }
   },
   "source": [
    "# Coursework 1: Spam filtering\n",
    "\n",
    "\n",
    "![](spam.jpeg)\n",
    "\n",
    "[Spam email](https://en.wikipedia.org/wiki/Email_spam) are unsolicited junk emails, typically sent in bulk.\n",
    "\n",
    "In this assignment, we'll use a public dataset of emails, some of which are spam, to train a classifier that could be used to filter emails.\n",
    "\n",
    "## Goals\n",
    "\n",
    "Your (programming) task is to:\n",
    "1. Implement two different loss functions and their gradients\n",
    "2. Implement the Adagrad optimization algorithm\n",
    "\n",
    "\n",
    "This assignment also functions as a tutorial and introduction to software that we'll be using throughout the term:\n",
    "* Python programming language\n",
    "* Numpy (and Scipy) for scientific and numerical computing\n",
    "* Jupyter notebooks and matplotlib for interactive programming and plotting\n",
    "\n",
    "## Look at the data\n",
    "\n",
    "Before you start, take a look at the data. It's in the `data_train` subfolder. Each text file is a single email. The subfolders inside of `data_train` include examples of spam and \"ham\" (i.e. not spam) — some of the \"ham\" emails are easier examples than others.\n",
    "\n",
    "## If you haven't used Jupyter notebooks before\n",
    "\n",
    "Then, first, congratulations: If you're viewing this page in a browser, it means you've successfully installed Jupyter and launched the notebook server.\n",
    "\n",
    "The main things to know are:\n",
    "* The notebook is composed of various *cells*. You can run the selected cell by using the \"run\" button on the toolbar, or by pressing `<shift>+<return>`.\n",
    "* You can run cells manually in any order, and that's fine when prototyping, but **be careful**. Your final notebook must run **in order, top to bottom** without errors. To test this, in the menu, go to \"kernel\" -> \"restart and run all\". This is how your code will be run by the grading system.\n",
    "* This first cell includes important import statements."
   ]
  },
  {
   "cell_type": "code",
   "execution_count": 1,
   "metadata": {
    "deletable": false,
    "editable": false,
    "nbgrader": {
     "cell_type": "code",
     "checksum": "1fe7a6c87c9d64dc10229e74d68509a5",
     "grade": false,
     "grade_id": "cell-72e61d8dc892f0d1",
     "locked": true,
     "schema_version": 3,
     "solution": false,
     "task": false
    }
   },
   "outputs": [],
   "source": [
    "import numpy as np\n",
    "import matplotlib.pyplot as plt\n",
    "\n",
    "%matplotlib inline"
   ]
  },
  {
   "cell_type": "markdown",
   "metadata": {
    "deletable": false,
    "editable": false,
    "nbgrader": {
     "cell_type": "markdown",
     "checksum": "305e513996ab7a02bc4f36e9ca16f439",
     "grade": false,
     "grade_id": "cell-8d0461c45da85403",
     "locked": true,
     "schema_version": 3,
     "solution": false,
     "task": false
    }
   },
   "source": [
    "## Numpy\n",
    "\n",
    "Numpy provides fast, vectorized implementations of many operations you might perform with matrices.\n",
    "\n",
    "One thing to note: the `*` operation performs elementwise multiplication (which may broadcast across dimensions) and `@` performs matrix multiplication. For example:"
   ]
  },
  {
   "cell_type": "code",
   "execution_count": 2,
   "metadata": {},
   "outputs": [
    {
     "name": "stdout",
     "output_type": "stream",
     "text": [
      "A:\n",
      " [[1. 2.]\n",
      " [2. 3.]\n",
      " [2. 1.]]\n",
      "b:\n",
      " [ 0.5 -1. ]\n",
      "A * b:\n",
      " [[ 0.5 -2. ]\n",
      " [ 1.  -3. ]\n",
      " [ 1.  -1. ]]\n",
      "A @ b:\n",
      " [-1.5 -2.   0. ]\n"
     ]
    }
   ],
   "source": [
    "A = np.array([[1., 2.],\n",
    "              [2., 3.],\n",
    "              [2., 1.]])\n",
    "\n",
    "b = np.array([0.5, -1])\n",
    "\n",
    "\n",
    "print(\"A:\\n\", A)\n",
    "print(\"b:\\n\", b)\n",
    "print(\"A * b:\\n\", A * b)\n",
    "print(\"A @ b:\\n\", A @ b)\n",
    "del A, b"
   ]
  },
  {
   "cell_type": "markdown",
   "metadata": {
    "deletable": false,
    "editable": false,
    "nbgrader": {
     "cell_type": "markdown",
     "checksum": "4605e8f1f2d9048389654193d34aebf2",
     "grade": false,
     "grade_id": "cell-01eac0bb6a94edf5",
     "locked": true,
     "schema_version": 3,
     "solution": false,
     "task": false
    }
   },
   "source": [
    "## Feature representation\n",
    "\n",
    "We're going to load the spam training dataset, and encode each \"token\" (i.e. word) of the email into a one-hot representation.\n",
    "\n",
    "This is a little bit different than the one-hot representation we talked about in class, because the overall number of tokens is unknown. Instead, we define a fixed (maximum) number of tokens $B$, and use the python `hash` function, which maps any object to an integer, modulo $B$. Note that this means that if there are more than $B$ tokens in the dataset, then there will be a collision, i.e. multiple tokens will have the same one-hot representation. (If $B$ is sufficiently large, this won't be a problem.)"
   ]
  },
  {
   "cell_type": "code",
   "execution_count": 3,
   "metadata": {},
   "outputs": [
    {
     "name": "stdout",
     "output_type": "stream",
     "text": [
      "Loaded 5000 input emails.\n"
     ]
    },
    {
     "data": {
      "text/plain": [
       "(5000, 512)"
      ]
     },
     "execution_count": 3,
     "metadata": {},
     "output_type": "execute_result"
    }
   ],
   "source": [
    "# tokenize the email and hashes the symbols into a vector\n",
    "def extractfeaturesnaive(path, B):\n",
    "    with open(path, 'r') as femail:\n",
    "        # initialize all-zeros feature vector\n",
    "        v = np.zeros(B)\n",
    "        email = femail.read()\n",
    "        # breaks for non-ascii characters\n",
    "        tokens = email.split()\n",
    "        for token in tokens:\n",
    "            v[hash(token) % B] = 1\n",
    "    return v\n",
    "\n",
    "\n",
    "def loadspamdata(extractfeatures, B=512, path=\"../../spam-data/\"):\n",
    "    '''\n",
    "    INPUT:\n",
    "    extractfeatures : function to extract features\n",
    "    B               : dimensionality of feature space\n",
    "    path            : the path of folder to be processed\n",
    "    \n",
    "    OUTPUT:\n",
    "    X, Y\n",
    "    '''\n",
    "    if path[-1] != '/':\n",
    "        path += '/'\n",
    "    \n",
    "    with open(path + 'index', 'r') as f:\n",
    "        allemails = [x for x in f.read().split('\\n') if ' ' in x]\n",
    "    \n",
    "    xs = np.zeros((len(allemails), B))\n",
    "    ys = np.zeros(len(allemails))\n",
    "    for i, line in enumerate(allemails):\n",
    "        label, filename = line.split(' ')\n",
    "        # make labels +1 for \"spam\" and -1 for \"ham\"\n",
    "        ys[i] = (label == 'spam') * 2 - 1   #labels are either 0 or 1 (X matrix entries) and this converts them to either -1 or 1 (Y entries)\n",
    "        xs[i, :] = extractfeatures(path + filename, B)\n",
    "    print('Loaded %d input emails.' % len(ys))\n",
    "    return xs, ys\n",
    "\n",
    "X,Y = loadspamdata(extractfeaturesnaive)\n",
    "X.shape"
   ]
  },
  {
   "cell_type": "markdown",
   "metadata": {
    "deletable": false,
    "editable": false,
    "nbgrader": {
     "cell_type": "markdown",
     "checksum": "0d16b345d43bfdbb607dffff2d443c6a",
     "grade": false,
     "grade_id": "cell-5a2d83b4b24935a5",
     "locked": true,
     "schema_version": 3,
     "solution": false,
     "task": false
    }
   },
   "source": [
    "This is your training set. To evaluate your algorithm you should split it off into a validation set."
   ]
  },
  {
   "cell_type": "code",
   "execution_count": 4,
   "metadata": {},
   "outputs": [],
   "source": [
    "# Split data into training and validation\n",
    "n, d = X.shape\n",
    "cutoff = int(np.ceil(0.8 * n))\n",
    "# indices of training samples\n",
    "xTr = X[:cutoff,:]\n",
    "yTr = Y[:cutoff]\n",
    "# indices of testing samples\n",
    "xTv = X[cutoff:,:]\n",
    "yTv = Y[cutoff:]"
   ]
  },
  {
   "cell_type": "code",
   "execution_count": 5,
   "metadata": {
    "deletable": false,
    "editable": false,
    "nbgrader": {
     "cell_type": "code",
     "checksum": "258c4ba86f618d66f5c3c603f78d19ad",
     "grade": false,
     "grade_id": "cell-d808002082635bec",
     "locked": true,
     "schema_version": 3,
     "solution": false,
     "task": false
    }
   },
   "outputs": [
    {
     "name": "stdout",
     "output_type": "stream",
     "text": [
      "Q: How many emails in the training are spam?\n",
      "A: 1612 of 4000\n"
     ]
    }
   ],
   "source": [
    "print(\"Q: How many emails in the training are spam?\\nA:\", (yTr == +1).sum(), \"of\", yTr.shape[0])"
   ]
  },
  {
   "cell_type": "markdown",
   "metadata": {
    "deletable": false,
    "editable": false,
    "nbgrader": {
     "cell_type": "markdown",
     "checksum": "3c4a3d516018d962dad470ea2560e917",
     "grade": false,
     "grade_id": "cell-6a74fbf903af03d3",
     "locked": true,
     "schema_version": 3,
     "solution": false,
     "task": false
    }
   },
   "source": [
    "<p>This should generate a training data set <code>xTr</code>, <code>yTr</code> and a validation set <code>xTv</code>, <code>yTv</code> for you. </p>\n",
    "\n",
    "## Implement logistic regression, using Adagrad\n",
    "\n",
    "For this assignment, our labels take values $y_i \\in \\{ +1, -1 \\}$. \n",
    "\n",
    "This means we can define the logistic regression loss as\n",
    "\n",
    "$$\\mathcal{L}(\\mathbf{w}) = \\sum_{i=1}^N \\log \\big(1 + \\exp( - y_i \\mathbf{w}^\\top \\mathbf{x}_i )\\big).$$\n",
    "\n",
    "In the next cell, your assignment is to implement a function that returns\n",
    "1. The loss $\\mathcal{L}(\\mathbf{w})$ in the equation above; and\n",
    "2. Its gradient with respect to $\\mathbf{w}$, i.e., $\\nabla_\\mathbf{w}\\mathcal{L}(\\mathbf{w})$, which is a vector the same size as $\\mathbf{w}$.\n",
    "\n",
    "Functions in python can return two values by returning a tuple, e.g. `return loss, grad`.\n",
    "\n",
    "### PART 1: Logistic loss (3 points)"
   ]
  },
  {
   "cell_type": "code",
   "execution_count": 6,
   "metadata": {
    "deletable": false,
    "nbgrader": {
     "cell_type": "code",
     "checksum": "74ee31228d8e601a0a1999ccc32e7dcb",
     "grade": false,
     "grade_id": "squares_invalid_input",
     "locked": false,
     "schema_version": 3,
     "solution": true,
     "task": false
    }
   },
   "outputs": [],
   "source": [
    "def logistic(w,xTr,yTr):\n",
    "    \"\"\"\n",
    "    INPUT:\n",
    "    w     : d   dimensional weight vector\n",
    "    xTr   : nxd dimensional matrix (each row is an input vector)\n",
    "    yTr   : n   dimensional vector (each entry is a label)\n",
    "    \n",
    "    OUTPUTS:\n",
    "    loss     : the total loss obtained with w on xTr and yTr (scalar)\n",
    "    gradient : d dimensional gradient at w \n",
    "    \"\"\"\n",
    "    \n",
    "    n, d = xTr.shape\n",
    "    # YOUR CODE HERE\n",
    "    loss=0\n",
    "    grad=np.zeros(d)\n",
    "    for i in range(n):\n",
    "        \n",
    "        array_mul=np.matmul(w,xTr[i].T) #matrix multiplication, otherwise we could use @ (numpy arrays are not matrices and the standard * occurs element-wise on arrays)\n",
    "       \n",
    "        #array_mul=(w@xTr[i].T)\n",
    "        scalar_dot=np.dot(-yTr[i],array_mul) #multiplication between scalars, otherwise we could use *\n",
    "        #scalar_dot=-yTr[i]*(array_mul)\n",
    "        l=1+np.exp(scalar_dot)\n",
    "        loss+=np.log(l)\n",
    "        \n",
    "        #gradient= - Sum{[exp(-y[i]*w.T*X[i]) *y[i]*X[i]]}/ (1+exp(-y[i]*w.T*X[i]))\n",
    "        g_l=-(np.exp(-yTr[i]*(w@xTr[i].T)))*xTr[i]*yTr[i]\n",
    "        grad+=g_l/(1+np.exp(scalar_dot))  #scalar_dot= (1+exp(-y[i]*w.T*X[i]))\n",
    "    return loss,grad\n",
    "    raise NotImplementedError()\n",
    "    # ... return loss, grad"
   ]
  },
  {
   "cell_type": "markdown",
   "metadata": {
    "deletable": false,
    "editable": false,
    "nbgrader": {
     "cell_type": "markdown",
     "checksum": "c8cba9646485cf850739aa1370aa3127",
     "grade": false,
     "grade_id": "cell-805f95d334135cb2",
     "locked": true,
     "schema_version": 3,
     "solution": false,
     "task": false
    }
   },
   "source": [
    "Your implementation above will be run through an automatic grader, which runs test cases similar to the following, that checks to make sure the output is correct for a particular set of inputs. The following cell will raise an exception if your implementation is not correct:"
   ]
  },
  {
   "cell_type": "code",
   "execution_count": 7,
   "metadata": {
    "deletable": false,
    "editable": false,
    "nbgrader": {
     "cell_type": "code",
     "checksum": "60488a8260d95674e53d9f7a6f098b0f",
     "grade": true,
     "grade_id": "check-logistic-1",
     "locked": true,
     "points": 1,
     "schema_version": 3,
     "solution": false,
     "task": false
    }
   },
   "outputs": [],
   "source": [
    "assert np.isclose(5.2881367,\n",
    "                  logistic(np.array([-1.16,  1.32]),\n",
    "                           np.array([[-0.02, -1.05],\n",
    "                                     [-1.32,  0.29],\n",
    "                                     [-2.11, -0.60]]),\n",
    "                           np.array([ 0.37, -1.06, -1.23 ]))[0], atol=1e-6)\n"
   ]
  },
  {
   "cell_type": "code",
   "execution_count": 8,
   "metadata": {},
   "outputs": [],
   "source": [
    "#np.isclose compares two objects element-wise to see if the values are within a given tolerance \n",
    "#(here specified by the keyword argument atol which is the absolute difference between two elements). \n",
    "#The function returns a boolean array."
   ]
  },
  {
   "cell_type": "code",
   "execution_count": 9,
   "metadata": {
    "deletable": false,
    "editable": false,
    "nbgrader": {
     "cell_type": "code",
     "checksum": "78c25f32622bd4be84faaad174744a0c",
     "grade": true,
     "grade_id": "check-logistic-2",
     "locked": true,
     "points": 1,
     "schema_version": 3,
     "solution": false,
     "task": false
    }
   },
   "outputs": [],
   "source": [
    "# (GRADING)"
   ]
  },
  {
   "cell_type": "code",
   "execution_count": 10,
   "metadata": {
    "deletable": false,
    "editable": false,
    "nbgrader": {
     "cell_type": "code",
     "checksum": "5be300091eebba07d01fb2e5c8b90476",
     "grade": true,
     "grade_id": "check-logistic-3",
     "locked": true,
     "points": 1,
     "schema_version": 3,
     "solution": false,
     "task": false
    }
   },
   "outputs": [],
   "source": [
    "# (GRADING)"
   ]
  },
  {
   "cell_type": "markdown",
   "metadata": {
    "deletable": false,
    "editable": false,
    "nbgrader": {
     "cell_type": "markdown",
     "checksum": "72099ab9b44f6617a3c35dd0d0681a60",
     "grade": false,
     "grade_id": "cell-61f87cae8129e7dd",
     "locked": true,
     "schema_version": 3,
     "solution": false,
     "task": false
    }
   },
   "source": [
    "There are additional \"hidden\" test cases along the lines of these, which are run by the grading code."
   ]
  },
  {
   "cell_type": "markdown",
   "metadata": {
    "deletable": false,
    "editable": false,
    "nbgrader": {
     "cell_type": "markdown",
     "checksum": "0aad35023fbd592206926a051b32e809",
     "grade": false,
     "grade_id": "cell-a8c7549832733b44",
     "locked": true,
     "schema_version": 3,
     "solution": false,
     "task": false
    }
   },
   "source": [
    "### Side note: finite differences\n",
    "\n",
    "An  alternative to  deriving the gradient analytically is to estimate it numerically. This is very slow, but it is a convenient  way to check your code for correctness.  The following function  uses numerical differentiation to evaluate the correctness of ridge.  If your code is correct, the norm difference between the two should be very small (smaller than $10^{-8}$). \n",
    "Keep in mind that this only checks if the gradient corresponds to the loss, but not if the loss is correct. The function also plots an image of the gradient values (blue) and their estimates (red). If the gradients are correct, these two should be right on top of each other.\n",
    "\n",
    "You can use this to self-test whether your gradient implementation matches your loss."
   ]
  },
  {
   "cell_type": "code",
   "execution_count": 11,
   "metadata": {},
   "outputs": [
    {
     "name": "stdout",
     "output_type": "stream",
     "text": [
      "The norm ratio is 0.0000000051.\n"
     ]
    },
    {
     "data": {
      "image/png": "[encoded data removed]",
      "text/plain": [
       "<Figure size 720x432 with 1 Axes>"
      ]
     },
     "metadata": {
      "needs_background": "light"
     },
     "output_type": "display_data"
    }
   ],
   "source": [
    "def numericalgradient(fun,w,e):\n",
    "    # get dimensionality\n",
    "    d = len(w)\n",
    "    # initialize numerical derivative\n",
    "    dh = np.zeros(d)\n",
    "    # go through dimensions\n",
    "    for i in range(d):\n",
    "        # copy the weight vector\n",
    "        nw = w.copy()\n",
    "        # perturb dimension i\n",
    "        nw[i] += e\n",
    "        # compute loss\n",
    "        l1, temp = fun(nw)\n",
    "        # perturb dimension i again\n",
    "        nw[i] -= 2*e\n",
    "        # compute loss\n",
    "        l2, temp = fun(nw)\n",
    "        # the gradient is the slope of the loss\n",
    "        dh[i] = (l1 - l2) / (2*e)\n",
    "    return dh\n",
    "\n",
    "def checkgrad(fun,w,e):\n",
    "    # evaluate symbolic gradient from fun()\n",
    "    loss,dy = fun(w)\n",
    "    # estimate gradient numerically from fun()\n",
    "    dh = numericalgradient(fun,w,e)\n",
    "    \n",
    "    # ii = dy.argsort()\n",
    "    ii = np.array([i for i in range(len(dy))])\n",
    "    \n",
    "    plt.figure(figsize=(10,6))\n",
    "    plt.scatter([i for i in range(len(dy))], dh[ii], c='b', marker='o', s=60)\n",
    "    plt.scatter([i for i in range(len(dy))], dy[ii], c='r', marker='.', s=50)\n",
    "    plt.xlabel('Dimension')\n",
    "    plt.ylabel('Gradient value')\n",
    "    plt.legend([\"numeric\",\"symbolic\"])\n",
    "    \n",
    "    # return the norm of the difference scaled by the norm of the sum\n",
    "    return np.linalg.norm(dh - dy) / np.linalg.norm(dh + dy)\n",
    "\n",
    "# dimensionality of the input\n",
    "_, d = xTr.shape\n",
    "# evaluate loss on random vector\n",
    "w = np.random.rand(d)\n",
    "# the lambda function notation is an inline way to define a function with only a single argument.\n",
    "ratio = checkgrad(lambda weight: logistic(weight,xTr,yTr),w,1e-05)\n",
    "print(\"The norm ratio is %.10f.\" % ratio)"
   ]
  },
  {
   "cell_type": "markdown",
   "metadata": {
    "deletable": false,
    "editable": false,
    "nbgrader": {
     "cell_type": "markdown",
     "checksum": "7f4d83995d66a987db4d4d9a353f78dd",
     "grade": false,
     "grade_id": "cell-4270746195a02977",
     "locked": true,
     "schema_version": 3,
     "solution": false,
     "task": false
    }
   },
   "source": [
    "Now implement the function <code>adagrad</code>, which performs adaptive gradient descent. \n",
    "Make sure to include the tolerance variable to stop early if the norm of the gradient is less than the tolerance value (you can use the function `np.linalg.norm(x)`). When the norm of the gradient is tiny it means that you have arrived at a minimum.\n",
    "\n",
    "The first parameter of <code>adagrad</code> is a function which takes a weight vector and returns loss and gradient. (Take a look at how it is used in the next cell: the first argument is `lambda weight: logistic(weight, xTr, yTr)`.)\n",
    "\n",
    "Your Adagrad implementation should compute, for iteration $t = 1,2, \\dots$ until reaching `maxiter` or reaching the tolerance:\n",
    "\n",
    "$$g_{t,d} = (\\nabla_\\mathbf{w} \\mathcal{L}(\\mathbf{w}^t))_d$$\n",
    "\n",
    "$$w^{t+1}_{d} = w^t_d - \\frac{\\alpha}{\\sqrt{G_{t,ii} + \\epsilon}} g_{t,i}$$\n",
    "\n",
    "with \n",
    "\n",
    "$$G_{t,ii} = \\sum_{\\tau = 1}^t g_{\\tau,i}^2$$\n",
    "\n",
    "and where $d$ ranges across the dimensions of $\\mathbf{w}$, and $\\mathbf{w}^t$ is the weight at iteration $t$.\n",
    "\n",
    "### PART 2: Adagrad (4 points)"
   ]
  },
  {
   "cell_type": "code",
   "execution_count": 12,
   "metadata": {
    "deletable": false,
    "nbgrader": {
     "cell_type": "code",
     "checksum": "8f60502d33bc41ee7cdb234681eb0144",
     "grade": false,
     "grade_id": "adagrad-impl",
     "locked": false,
     "schema_version": 3,
     "solution": true,
     "task": false
    }
   },
   "outputs": [],
   "source": [
    "def adagrad(func,w,alpha,maxiter,tol=1e-02):\n",
    "    \"\"\"\n",
    "    INPUT:\n",
    "    func    : function to minimize\n",
    "              (loss, gradient = func(w))\n",
    "    w       : d dimensional initial weight vector \n",
    "    alpha   : initial gradient descent stepsize (scalar)\n",
    "    maxiter : maximum amount of iterations (scalar)\n",
    "    tol     : if norm(gradient)<tol, it quits (scalar)\n",
    "    \n",
    "    OUTPUTS:\n",
    "     \n",
    "    w      : d dimensional final weight vector\n",
    "    losses : vector containing loss at each iteration\n",
    "    \"\"\"\n",
    "    \n",
    "    \n",
    "    \n",
    "    # YOUR CODE HERE\n",
    "    \n",
    "    eps = 1e-06\n",
    "    G_t_ii=np.zeros((w.shape[0],w.shape[0]))\n",
    "    losses=[]\n",
    "    iter_counter=0\n",
    "    criterion=True\n",
    "    \n",
    "    while (iter_counter<maxiter and criterion==True):\n",
    "        iter_counter+=1\n",
    "        loss,grad=func(w) #call the logistic function\n",
    "        \n",
    "          \n",
    "        #do the updates\n",
    "        #G_t_ii+=np.square(grad) #add to the existing the current squared grad vector, would be the same to use pow(grad,2)\n",
    "        #w=w-alpha*grad/(np.sqrt(G_t_ii+eps))\n",
    "        \n",
    "        \n",
    "        for i in range(w.shape[0]):\n",
    "            G_t_ii[i][i]+=grad[i]**2\n",
    "            \n",
    "            \n",
    "        for i in range(w.shape[0]):\n",
    "            w[i]=w[i]-(alpha/np.sqrt(G_t_ii[i][i]+eps))*grad[i]\n",
    "            \n",
    "        losses.append(loss) #keep the current loss in a list \n",
    "   \n",
    "                \n",
    "        #check whether you have arrived at a minimum\n",
    "        if (np.linalg.norm(grad)<tol):\n",
    "            criterion=False \n",
    "            \n",
    "\n",
    "    \n",
    "    return w,losses\n",
    "    \n",
    "    raise NotImplementedError()\n",
    "    # ... return w, losses"
   ]
  },
  {
   "cell_type": "code",
   "execution_count": 13,
   "metadata": {
    "deletable": false,
    "editable": false,
    "nbgrader": {
     "cell_type": "code",
     "checksum": "03289bc695a8a04880112202900313b3",
     "grade": true,
     "grade_id": "adagrad-test-1",
     "locked": true,
     "points": 1,
     "schema_version": 3,
     "solution": false,
     "task": false
    }
   },
   "outputs": [],
   "source": [
    "# (GRADING)"
   ]
  },
  {
   "cell_type": "code",
   "execution_count": 14,
   "metadata": {
    "deletable": false,
    "editable": false,
    "nbgrader": {
     "cell_type": "code",
     "checksum": "dc0da6309f91fcdffc65dadae4991e09",
     "grade": true,
     "grade_id": "adagrad-test-2",
     "locked": true,
     "points": 1,
     "schema_version": 3,
     "solution": false,
     "task": false
    }
   },
   "outputs": [],
   "source": [
    "# (GRADING)"
   ]
  },
  {
   "cell_type": "code",
   "execution_count": 15,
   "metadata": {
    "deletable": false,
    "editable": false,
    "nbgrader": {
     "cell_type": "code",
     "checksum": "0c2c60e291596760e5bddccc0931bb41",
     "grade": true,
     "grade_id": "adagrad-test-3",
     "locked": true,
     "points": 2,
     "schema_version": 3,
     "solution": false,
     "task": false
    }
   },
   "outputs": [],
   "source": [
    "# (GRADING)"
   ]
  },
  {
   "cell_type": "code",
   "execution_count": 16,
   "metadata": {
    "scrolled": false
   },
   "outputs": [
    {
     "name": "stdout",
     "output_type": "stream",
     "text": [
      "Final train loss: 156.047716\n"
     ]
    },
    {
     "data": {
      "image/png": "[encoded data removed]",
      "text/plain": [
       "<Figure size 720x360 with 1 Axes>"
      ]
     },
     "metadata": {
      "needs_background": "light"
     },
     "output_type": "display_data"
    }
   ],
   "source": [
    "_, d = xTr.shape\n",
    "w, losses = adagrad(lambda weight: logistic(weight, xTr, yTr), np.random.rand(d), 1.0, 1000)\n",
    "\n",
    "plt.figure(figsize=(10,5))\n",
    "plt.semilogy(losses, c='r', linestyle='-')\n",
    "plt.xlabel(\"gradient updates\")\n",
    "plt.ylabel(\"loss\")\n",
    "plt.title(\"Adagrad convergence\")\n",
    "print(\"Final train loss: %f\" % losses[-1])"
   ]
  },
  {
   "cell_type": "code",
   "execution_count": 17,
   "metadata": {},
   "outputs": [
    {
     "name": "stdout",
     "output_type": "stream",
     "text": [
      "Training accuracy 98.95%\n",
      "Validation accuracy 89.80%\n",
      "\n"
     ]
    }
   ],
   "source": [
    "def linclassify(w,xTr):\n",
    "    \"\"\" Make a +1/-1 prediction\"\"\"\n",
    "    return np.sign(xTr @ w)\n",
    "\n",
    "# evaluate training accuracy\n",
    "preds = linclassify(w,xTr)\n",
    "trainingacc = np.mean(preds==yTr)\n",
    "# evaluate testing accuracy\n",
    "preds = linclassify(w,xTv)\n",
    "validationacc = np.mean(preds==yTv)\n",
    "print(\"Training accuracy %2.2f%%\\nValidation accuracy %2.2f%%\\n\" % (trainingacc*100,validationacc*100))"
   ]
  },
  {
   "cell_type": "markdown",
   "metadata": {
    "deletable": false,
    "editable": false,
    "nbgrader": {
     "cell_type": "markdown",
     "checksum": "0093b236544f801f36c8ad42670042e5",
     "grade": false,
     "grade_id": "cell-1200b86f9684c379",
     "locked": true,
     "schema_version": 3,
     "solution": false,
     "task": false
    }
   },
   "source": [
    "### Exercise (ungraded, but useful!)\n",
    "\n",
    "Take a look at the results in the previous two cells.\n",
    "1. Did Adagrad run long enough so that the gradient norm was below the tolerance?\n",
    "2. Try re-running this a few times. How stable are the results on re-execution?\n",
    "3. Try changing the maximum number of iterations. How does this affect the gap between the training and validation accuracies?\n",
    "4. Try changing the base stepsize of Adagrad. Does this affect stability, or results?"
   ]
  },
  {
   "cell_type": "markdown",
   "metadata": {},
   "source": [
    "## Now let's implement a different linear classifier, a support vector machine.\n",
    "\n",
    "The SVM objective has a hinge loss, and L2 regularization term:\n",
    "\n",
    "$$\\mathcal{L}(\\mathbf{w}) = \\sum_{i=1}^N \\max \\{ 1 - y_i \\mathbf{w}^\\top\\mathbf{x}_i, 0 \\} + \\lambda \\| \\mathbf{w} \\|_2^2.$$\n",
    "\n",
    "Implement this loss (and its gradient) in the next cell. Again, you'll need to derive the gradient yourself!\n",
    "\n",
    "### PART 3: Hinge loss (3 points)"
   ]
  },
  {
   "cell_type": "code",
   "execution_count": 18,
   "metadata": {
    "deletable": false,
    "nbgrader": {
     "cell_type": "code",
     "checksum": "6367f1a2bd07518350b4ecbe55b385b2",
     "grade": false,
     "grade_id": "hinge-impl",
     "locked": false,
     "schema_version": 3,
     "solution": true
    }
   },
   "outputs": [],
   "source": [
    "def hinge(w,xTr,yTr,lmbda):\n",
    "    \"\"\"\n",
    "    INPUT:\n",
    "    w     : d   dimensional weight vector\n",
    "    xTr   : nxd dimensional matrix (each row is an input vector)\n",
    "    yTr   : n   dimensional vector (each entry is a label)\n",
    "    lmbda : regression constant (scalar)\n",
    "    \n",
    "    OUTPUTS:\n",
    "    loss     : the total loss obtained with w on xTr and yTr (scalar)\n",
    "    gradient : d dimensional gradient at w\n",
    "    \"\"\"\n",
    "    n, d = xTr.shape\n",
    "    \n",
    "    # YOUR CODE HERE\n",
    "    loss=0\n",
    "    grad=np.zeros((d))\n",
    "    for i in range(n):\n",
    "        \n",
    "  \n",
    "        #compute real valued prediction for each instance\n",
    "        pred_real=w@xTr[i].T   #w.T*xi=(w@xTr[i].T)\n",
    "        \n",
    "        yi_pred_real=yTr[i]*pred_real #multiplication between scalars, otherwise we could use *\n",
    "        \n",
    "        #yi*w.T*xi=-yTr[i]*(pred_real)\n",
    "        l=np.maximum(0,1-yi_pred_real)\n",
    "        loss+=l\n",
    "        \n",
    "        \n",
    "        #gradient computation\n",
    "        if (yi_pred_real<1): #check whether 𝑦𝑖𝐰⊤𝐱𝑖<1 \n",
    "            grad+= -yTr[i]*xTr[i]  #shape: (1,d)\n",
    "        else:\n",
    "            grad+= 0\n",
    "    \n",
    "    #add regularisation term\n",
    "    reg_loss=lmbda*(np.linalg.norm(w,ord=2)**2) #default norm is l2 in np.linalg.norm, could also do it with np.linalg.norm(w.ravel(), ord=2)\n",
    "    reg_grad=2*lmbda*w\n",
    "    \n",
    "    #sum them up\n",
    "    loss+=reg_loss\n",
    "    grad+=reg_grad\n",
    "    \n",
    "    \n",
    "    return loss,grad\n",
    "    raise NotImplementedError()\n",
    "    # ... return loss,grad"
   ]
  },
  {
   "cell_type": "code",
   "execution_count": null,
   "metadata": {},
   "outputs": [],
   "source": []
  },
  {
   "cell_type": "code",
   "execution_count": 19,
   "metadata": {
    "deletable": false,
    "editable": false,
    "nbgrader": {
     "cell_type": "code",
     "checksum": "0429401ae1c2accadc8af15e92fb6c11",
     "grade": true,
     "grade_id": "hinge-check-1",
     "locked": true,
     "points": 1,
     "schema_version": 3,
     "solution": false,
     "task": false
    }
   },
   "outputs": [],
   "source": [
    "# (GRADING)"
   ]
  },
  {
   "cell_type": "code",
   "execution_count": 20,
   "metadata": {
    "deletable": false,
    "editable": false,
    "nbgrader": {
     "cell_type": "code",
     "checksum": "c4c6ab8abc6bbbf1cc00ff6f608ee263",
     "grade": true,
     "grade_id": "hinge-check-2",
     "locked": true,
     "points": 1,
     "schema_version": 3,
     "solution": false,
     "task": false
    }
   },
   "outputs": [],
   "source": [
    "# (GRADING)"
   ]
  },
  {
   "cell_type": "code",
   "execution_count": 21,
   "metadata": {
    "deletable": false,
    "editable": false,
    "nbgrader": {
     "cell_type": "code",
     "checksum": "50fa42e86d466c9225eefba034b59ac4",
     "grade": true,
     "grade_id": "hinge-check-3",
     "locked": true,
     "points": 1,
     "schema_version": 3,
     "solution": false,
     "task": false
    }
   },
   "outputs": [],
   "source": [
    "# (GRADING)"
   ]
  },
  {
   "cell_type": "code",
   "execution_count": 22,
   "metadata": {
    "scrolled": false
   },
   "outputs": [
    {
     "name": "stdout",
     "output_type": "stream",
     "text": [
      "Final train loss: 666.597027\n",
      "Training accuracy 95.70%\n",
      "Validation accuracy 87.60%\n",
      "\n"
     ]
    },
    {
     "data": {
      "image/png": "[encoded data removed]",
      "text/plain": [
       "<Figure size 720x360 with 1 Axes>"
      ]
     },
     "metadata": {
      "needs_background": "light"
     },
     "output_type": "display_data"
    }
   ],
   "source": [
    "# set lmbda (λ) arbitrarily (but think about how else to set it!)\n",
    "lmbda = 0.1\n",
    "\n",
    "w, losses = adagrad(lambda weight: hinge(weight, xTr, yTr, lmbda), np.random.rand(d), 1, 1000)\n",
    "\n",
    "plt.figure(figsize=(10,5))\n",
    "plt.semilogy(losses, c='r', linestyle='-')\n",
    "plt.xlabel(\"gradient updates\")\n",
    "plt.ylabel(\"loss\")\n",
    "plt.title(\"Adagrad convergence\")\n",
    "print(\"Final train loss: %f\" % losses[-1])\n",
    "\n",
    "# evaluate training accuracy\n",
    "preds = linclassify(w,xTr)\n",
    "trainingacc = np.mean(preds==yTr)\n",
    "# evaluate testing accuracy\n",
    "preds = linclassify(w,xTv)\n",
    "validationacc = np.mean(preds==yTv)\n",
    "print(\"Training accuracy %2.2f%%\\nValidation accuracy %2.2f%%\\n\" % (trainingacc*100,validationacc*100))"
   ]
  },
  {
   "cell_type": "markdown",
   "metadata": {},
   "source": [
    "## Evaluation\n",
    "\n",
    "Q: When building a spam filter, is a false positive or a false negative more costly? These correspond to:\n",
    "1. Flagging all spam, letting none through to the inbox; occasionally, real email is sent to the spam folder\n",
    "2. Never mistakenly sending real email to the spam folder; but, occasionally letting spam through to the inbox\n",
    "\n",
    "A \"positive\" in this setting refers to identifying a spam instance, i.e. $y = +1$.\n",
    "\n",
    "Let's implement (and look at!) the precision and recall of these classifiers on the validation set."
   ]
  },
  {
   "cell_type": "code",
   "execution_count": 23,
   "metadata": {},
   "outputs": [],
   "source": [
    "def false_positive(y_hat, y):\n",
    "    \"\"\"\n",
    "    INPUT:\n",
    "    y_hat   : vector of predicted labels (+1 and -1)\n",
    "    y       : vector of true labels (+1 and -1)\n",
    "    \n",
    "    OUTPUTS:\n",
    "    fp      : number of false positives (mistakenly selected +1)\n",
    "    \"\"\"\n",
    "    fp = np.logical_and(y_hat > 0, y < 0).sum()\n",
    "    return fp"
   ]
  },
  {
   "cell_type": "code",
   "execution_count": 24,
   "metadata": {},
   "outputs": [],
   "source": [
    "def false_negative(y_hat, y):\n",
    "    \"\"\"\n",
    "    INPUT:\n",
    "    y_hat   : vector of predicted labels (+1 and -1)\n",
    "    y       : vector of true labels (+1 and -1)\n",
    "    \n",
    "    OUTPUTS:\n",
    "    fp      : number of false positives (mistakenly selected +1)\n",
    "    \"\"\"\n",
    "    fp = np.logical_and(y_hat < 0, y > 0).sum()\n",
    "    return fp"
   ]
  },
  {
   "cell_type": "code",
   "execution_count": 25,
   "metadata": {},
   "outputs": [
    {
     "name": "stdout",
     "output_type": "stream",
     "text": [
      "Validation set size: 1000\n",
      "False positives: 111\n",
      "False negatives: 13\n"
     ]
    }
   ],
   "source": [
    "preds = linclassify(w,xTv)\n",
    "fp_val = false_positive(preds, yTv)\n",
    "fn_val = false_negative(preds, yTv)\n",
    "\n",
    "print(\"Validation set size:\", len(yTv))\n",
    "print(\"False positives:\", fp_val)\n",
    "print(\"False negatives:\", fn_val)"
   ]
  },
  {
   "cell_type": "markdown",
   "metadata": {},
   "source": [
    "## What do these precision and recall numbers mean, in terms of spam filter performance?\n",
    "\n",
    "Would you use this spam filter?\n",
    "\n",
    "By changing the prediction threshold (i.e. by adding an intercept term), it's possible to trade off between false positives and false negatives. Keep in mind there are about 1600-ish spam emails in the dataset!"
   ]
  },
  {
   "cell_type": "code",
   "execution_count": 26,
   "metadata": {},
   "outputs": [
    {
     "data": {
      "image/png": "[encoded data removed]",
      "text/plain": [
       "<Figure size 432x288 with 1 Axes>"
      ]
     },
     "metadata": {
      "needs_background": "light"
     },
     "output_type": "display_data"
    }
   ],
   "source": [
    "fp = []\n",
    "fn = []\n",
    "b_grid = np.linspace(-10, 10, 50)\n",
    "for b in b_grid:\n",
    "    preds = np.sign(xTr @ w + b)\n",
    "    fp.append(false_positive(preds, yTr))\n",
    "    fn.append(false_negative(preds, yTr))\n",
    "\n",
    "plt.plot(b_grid, fp)\n",
    "plt.plot(b_grid, fn)\n",
    "plt.xlabel(\"offset (intercept)\")\n",
    "plt.ylabel(\"count\")\n",
    "plt.legend(['False positives', 'False negatives']);\n"
   ]
  },
  {
   "cell_type": "code",
   "execution_count": null,
   "metadata": {},
   "outputs": [],
   "source": []
  }
 ],
 "metadata": {
  "kernelspec": {
   "display_name": "Python 3",
   "language": "python",
   "name": "python3"
  },
  "language_info": {
   "codemirror_mode": {
    "name": "ipython",
    "version": 3
   },
   "file_extension": ".py",
   "mimetype": "text/x-python",
   "name": "python",
   "nbconvert_exporter": "python",
   "pygments_lexer": "ipython3",
   "version": "3.8.3"
  }
 },
 "nbformat": 4,
 "nbformat_minor": 1
}
